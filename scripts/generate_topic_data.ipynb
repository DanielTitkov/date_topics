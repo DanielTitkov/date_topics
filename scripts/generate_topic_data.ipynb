{
 "cells": [
  {
   "cell_type": "code",
   "execution_count": 2,
   "id": "2ea74b67",
   "metadata": {},
   "outputs": [],
   "source": [
    "import pandas as pd\n",
    "import pprint\n",
    "\n",
    "pp = pprint.PrettyPrinter(indent=2, compact=True)"
   ]
  },
  {
   "cell_type": "code",
   "execution_count": 9,
   "id": "dfd8a130",
   "metadata": {},
   "outputs": [],
   "source": [
    "INDENT = \"\"*2\n",
    "OUTPUT = \"../lib/data/topics.dart\""
   ]
  },
  {
   "cell_type": "code",
   "execution_count": 10,
   "id": "cca78d8a",
   "metadata": {},
   "outputs": [],
   "source": [
    "df = pd.read_csv(\"../data/topics.csv\").fillna('')"
   ]
  },
  {
   "cell_type": "code",
   "execution_count": 11,
   "id": "a9e31358",
   "metadata": {},
   "outputs": [],
   "source": [
    "topic_groups = []\n",
    "\n",
    "cur_topic_group = {}\n",
    "cur_topic = {}\n",
    "cur_item = {}\n",
    "for row in df.to_dict(orient=\"records\"):\n",
    "    if row[\"topicGroup\"]:\n",
    "        cur_topic_group = {\n",
    "            \"id\": row[\"topicGroup\"],\n",
    "            \"title\": row[\"topicGroup_title\"],\n",
    "            \"description\": row[\"topicGroup_desc\"],\n",
    "            \"topics\": [],\n",
    "            \"tags\": [],\n",
    "        }\n",
    "        topic_groups.append(cur_topic_group)\n",
    "    \n",
    "    if row[\"topic\"]:\n",
    "        cur_topic = {\n",
    "            \"id\": f'{cur_topic_group[\"id\"]}_{row[\"topic\"]}',\n",
    "            \"title\": row[\"topic_title\"],\n",
    "            \"description\": row[\"topicGroup_desc\"],\n",
    "            \"items\": [],\n",
    "            \"tags\": [],\n",
    "        }\n",
    "        if cur_topic_group:\n",
    "            cur_topic_group[\"topics\"].append(cur_topic)\n",
    "        \n",
    "        \n",
    "    if row[\"item\"]:\n",
    "        cur_item = {\n",
    "            \"id\": f'{cur_topic[\"id\"]}_{row[\"item\"]}',\n",
    "            \"title\": row[\"item_title\"],\n",
    "            \"body\": row[\"item_body\"],\n",
    "            \"order_index\": row[\"item_orderIndex\"],\n",
    "        }\n",
    "        if cur_topic: \n",
    "            cur_topic[\"items\"].append(cur_item)"
   ]
  },
  {
   "cell_type": "code",
   "execution_count": 13,
   "id": "5a661e16",
   "metadata": {},
   "outputs": [
    {
     "name": "stdout",
     "output_type": "stream",
     "text": [
      "generation done\n"
     ]
    }
   ],
   "source": [
    "def item_to_string(d: dict) -> str:\n",
    "    args = [\n",
    "        f'id: \"{d[\"id\"]}\"',\n",
    "        f'body: \"{d[\"body\"]}\"',\n",
    "    ]\n",
    "    if d[\"title\"] != \"\":\n",
    "        args.append(f'title: \"{d[\"title\"]}\"')\n",
    "    \n",
    "    return \"Item(\" + \", \".join(args) + \"),\"\n",
    "\n",
    "\n",
    "def topic_to_string(d: dict) -> str:\n",
    "    args = [\n",
    "        f'id: \"{d[\"id\"]}\"',\n",
    "        f'title: \"{d[\"title\"]}\"',\n",
    "    ]\n",
    "    if d[\"description\"] != \"\":\n",
    "        args.append(f'description: \"{d[\"description\"]}\"')\n",
    "        \n",
    "    items = [INDENT*3 + item_to_string(item) for item in d[\"items\"]]\n",
    "    items_str = \"\\n\".join(items)\n",
    "    args.append(f'items: [\\n{items_str}\\n{INDENT*2}]')\n",
    "        \n",
    "    return \"Topic(\" + \", \".join(args) + \"),\"\n",
    "\n",
    "\n",
    "def topic_group_to_string(d: dict) -> str:\n",
    "    args = [\n",
    "        f'id: \"{d[\"id\"]}\"',\n",
    "        f'title: \"{d[\"title\"]}\"',\n",
    "    ]\n",
    "    if d[\"description\"] != \"\":\n",
    "        args.append(f'description: \"{d[\"description\"]}\"')\n",
    "        \n",
    "    topics = [INDENT*2 + topic_to_string(topic) for topic in d[\"topics\"]]\n",
    "    topics_str = \"\\n\".join(topics)\n",
    "    args.append(f'topics: [\\n{topics_str}\\n{INDENT}]')\n",
    "        \n",
    "    return \"TopicGroup(\" + \", \".join(args) + \"),\"\n",
    "        \n",
    "    \n",
    "def data_to_dart(d: list) -> str:\n",
    "    preamble = \"import 'package:date_topics/domain/domain.dart';\\n\\n\"\n",
    "    \n",
    "    topic_groups = [INDENT + topic_group_to_string(tg)+\"\\n\" for tg in d]\n",
    "    \n",
    "    return preamble + \"final List<TopicGroup> topicGroupsData = [\\n\" + \"\".join(topic_groups) + \"];\"\n",
    "     \n",
    "\n",
    "with open(OUTPUT, \"w\") as f:\n",
    "    f.write(data_to_dart(topic_groups))\n",
    "    \n",
    "print(\"generation done\")\n"
   ]
  }
 ],
 "metadata": {
  "kernelspec": {
   "display_name": "Python 3 (ipykernel)",
   "language": "python",
   "name": "python3"
  },
  "language_info": {
   "codemirror_mode": {
    "name": "ipython",
    "version": 3
   },
   "file_extension": ".py",
   "mimetype": "text/x-python",
   "name": "python",
   "nbconvert_exporter": "python",
   "pygments_lexer": "ipython3",
   "version": "3.9.5"
  }
 },
 "nbformat": 4,
 "nbformat_minor": 5
}
