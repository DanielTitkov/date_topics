{
 "cells": [
  {
   "cell_type": "code",
   "execution_count": null,
   "id": "2ea74b67",
   "metadata": {},
   "outputs": [],
   "source": [
    "import pandas as pd\n",
    "import pprint\n",
    "\n",
    "pp = pprint.PrettyPrinter(indent=2, compact=True)"
   ]
  },
  {
   "cell_type": "code",
   "execution_count": null,
   "id": "cca78d8a",
   "metadata": {},
   "outputs": [],
   "source": [
    "df = pd.read_csv(\"../data/topics.csv\").fillna('')\n",
    "df"
   ]
  },
  {
   "cell_type": "code",
   "execution_count": null,
   "id": "a9e31358",
   "metadata": {},
   "outputs": [],
   "source": [
    "topic_groups = []\n",
    "\n",
    "cur_topic_group = {}\n",
    "cur_topic = {}\n",
    "cur_item = {}\n",
    "for row in df.to_dict(orient=\"records\"):\n",
    "    if row[\"topicGroup\"]:\n",
    "        cur_topic_group = {\n",
    "            \"id\": row[\"topicGroup\"],\n",
    "            \"title\": row[\"topicGroup_title\"],\n",
    "            \"description\": row[\"topicGroup_desc\"],\n",
    "            \"topics\": [],\n",
    "            \"tags\": [],\n",
    "        }\n",
    "        topic_groups.append(cur_topic_group)\n",
    "    \n",
    "    if row[\"topic\"]:\n",
    "        cur_topic = {\n",
    "            \"id\": f'{cur_topic_group[\"id\"]}_{row[\"topic\"]}',\n",
    "            \"title\": row[\"topic_title\"],\n",
    "            \"description\": row[\"topicGroup_desc\"],\n",
    "            \"items\": [],\n",
    "            \"tags\": [],\n",
    "        }\n",
    "        if cur_topic_group:\n",
    "            cur_topic_group[\"topics\"].append(cur_topic)\n",
    "        \n",
    "        \n",
    "    if row[\"item\"]:\n",
    "        cur_item = {\n",
    "            \"id\": f'{cur_topic[\"id\"]}_{row[\"item\"]}',\n",
    "            \"title\": row[\"item_title\"],\n",
    "            \"body\": row[\"item_body\"],\n",
    "            \"order_index\": row[\"item_orderIndex\"],\n",
    "        }\n",
    "        if cur_topic: \n",
    "            cur_topic[\"items\"].append(cur_item)\n",
    "\n",
    "    \n",
    "        \n",
    "pp.pprint(topic_groups)"
   ]
  },
  {
   "cell_type": "code",
   "execution_count": null,
   "id": "5a661e16",
   "metadata": {},
   "outputs": [],
   "source": [
    "def item_to_string(i: dict) -> str:\n",
    "    args = []\n",
    "    args.append(f'id: \"{i[\"id\"]}\"')\n",
    "    args.append(f'body: \"{i[\"body\"]}\"')\n",
    "    if i[\"title\"] != \"\":\n",
    "        args.append(f'title: \"{i[\"title\"]}\"')\n",
    "    \n",
    "    return \"Item(\" + \", \".join(args) + \"),\"\n",
    "    \n",
    "    \n",
    "item_to_string(topic_groups[0][\"topics\"][0][\"items\"][0])"
   ]
  },
  {
   "cell_type": "code",
   "execution_count": null,
   "id": "d8a59e00",
   "metadata": {},
   "outputs": [],
   "source": []
  }
 ],
 "metadata": {
  "kernelspec": {
   "display_name": "Python 3 (ipykernel)",
   "language": "python",
   "name": "python3"
  },
  "language_info": {
   "codemirror_mode": {
    "name": "ipython",
    "version": 3
   },
   "file_extension": ".py",
   "mimetype": "text/x-python",
   "name": "python",
   "nbconvert_exporter": "python",
   "pygments_lexer": "ipython3",
   "version": "3.9.5"
  }
 },
 "nbformat": 4,
 "nbformat_minor": 5
}
